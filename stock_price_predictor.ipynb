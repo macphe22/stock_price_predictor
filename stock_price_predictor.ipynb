{
 "cells": [
  {
   "cell_type": "code",
   "execution_count": null,
   "metadata": {},
   "outputs": [
    {
     "data": {
      "text/html": [
       "<div>\n",
       "<style scoped>\n",
       "    .dataframe tbody tr th:only-of-type {\n",
       "        vertical-align: middle;\n",
       "    }\n",
       "\n",
       "    .dataframe tbody tr th {\n",
       "        vertical-align: top;\n",
       "    }\n",
       "\n",
       "    .dataframe thead th {\n",
       "        text-align: right;\n",
       "    }\n",
       "</style>\n",
       "<table border=\"1\" class=\"dataframe\">\n",
       "  <thead>\n",
       "    <tr style=\"text-align: right;\">\n",
       "      <th></th>\n",
       "      <th>Date</th>\n",
       "      <th>Open</th>\n",
       "      <th>High</th>\n",
       "      <th>Low</th>\n",
       "      <th>Close</th>\n",
       "      <th>Adj Close</th>\n",
       "      <th>Volume</th>\n",
       "    </tr>\n",
       "  </thead>\n",
       "  <tbody>\n",
       "    <tr>\n",
       "      <td>0</td>\n",
       "      <td>2000-03-06</td>\n",
       "      <td>48.00000</td>\n",
       "      <td>48.68750</td>\n",
       "      <td>45.06250</td>\n",
       "      <td>45.31250</td>\n",
       "      <td>29.072731</td>\n",
       "      <td>93609400</td>\n",
       "    </tr>\n",
       "    <tr>\n",
       "      <td>1</td>\n",
       "      <td>2000-03-07</td>\n",
       "      <td>48.06250</td>\n",
       "      <td>48.75000</td>\n",
       "      <td>45.96875</td>\n",
       "      <td>46.43750</td>\n",
       "      <td>29.794542</td>\n",
       "      <td>135061000</td>\n",
       "    </tr>\n",
       "    <tr>\n",
       "      <td>2</td>\n",
       "      <td>2000-03-08</td>\n",
       "      <td>46.90625</td>\n",
       "      <td>48.09375</td>\n",
       "      <td>45.50000</td>\n",
       "      <td>47.78125</td>\n",
       "      <td>30.656700</td>\n",
       "      <td>94290000</td>\n",
       "    </tr>\n",
       "    <tr>\n",
       "      <td>3</td>\n",
       "      <td>2000-03-09</td>\n",
       "      <td>47.65625</td>\n",
       "      <td>50.00000</td>\n",
       "      <td>47.50000</td>\n",
       "      <td>50.00000</td>\n",
       "      <td>32.080254</td>\n",
       "      <td>88198800</td>\n",
       "    </tr>\n",
       "    <tr>\n",
       "      <td>4</td>\n",
       "      <td>2000-03-10</td>\n",
       "      <td>49.78125</td>\n",
       "      <td>51.25000</td>\n",
       "      <td>49.75000</td>\n",
       "      <td>50.50000</td>\n",
       "      <td>32.401062</td>\n",
       "      <td>85589000</td>\n",
       "    </tr>\n",
       "  </tbody>\n",
       "</table>\n",
       "</div>"
      ],
      "text/plain": [
       "         Date      Open      High       Low     Close  Adj Close     Volume\n",
       "0  2000-03-06  48.00000  48.68750  45.06250  45.31250  29.072731   93609400\n",
       "1  2000-03-07  48.06250  48.75000  45.96875  46.43750  29.794542  135061000\n",
       "2  2000-03-08  46.90625  48.09375  45.50000  47.78125  30.656700   94290000\n",
       "3  2000-03-09  47.65625  50.00000  47.50000  50.00000  32.080254   88198800\n",
       "4  2000-03-10  49.78125  51.25000  49.75000  50.50000  32.401062   85589000"
      ]
     },
     "execution_count": 2,
     "metadata": {},
     "output_type": "execute_result"
    }
   ],
   "source": [
    "import pandas as pd\n",
    "data_stocks = pd.read_csv('MSFT.csv')\n",
    "data_stocks.head()"
   ]
  },
  {
   "cell_type": "code",
   "execution_count": null,
   "metadata": {},
   "outputs": [],
   "source": [
    ""
   ]
  }
 ],
 "metadata": {
  "kernelspec": {
   "display_name": "Python 3",
   "language": "python",
   "name": "python3"
  },
  "language_info": {
   "codemirror_mode": {
    "name": "ipython",
    "version": 3
   },
   "file_extension": ".py",
   "mimetype": "text/x-python",
   "name": "python",
   "nbconvert_exporter": "python",
   "pygments_lexer": "ipython3",
   "version": "3.6.9"
  }
 },
 "nbformat": 4,
 "nbformat_minor": 2
}
