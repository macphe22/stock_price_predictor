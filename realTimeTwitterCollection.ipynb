{
 "cells": [
  {
   "cell_type": "code",
   "execution_count": 66,
   "metadata": {},
   "outputs": [],
   "source": [
    "import tweepy\n",
    "from tweepy import OAuthHandler\n",
    "from tweepy import API\n",
    "import pandas as pd\n",
    "\n",
    "C_KEY = 'h4INi33d4LZ6d22i3AuG7ZDGi'\n",
    "C_SECRET = 'laobKmNYzSAoFLaSW0J0X6FJKZRW8Ya9sjzotA5iECtUDJPPHm'\n",
    "A_TOKEN_KEY = '2518980006-mghrTxvZcuHZdBTCZ5cTWDG1srZonoQNkq6m2xf'\n",
    "A_TOKEN_SECRET = 'OINwly3IufbX6hwNrhAwnxyjXs2uaTCzno1LE2T81kCVm'\n",
    "\n",
    "auth = tweepy.OAuthHandler(C_KEY, C_SECRET)\n",
    "auth.set_access_token(A_TOKEN_KEY, A_TOKEN_SECRET)\n",
    "api = tweepy.API(auth)\n",
    "\n"
   ]
  },
  {
   "cell_type": "code",
   "execution_count": 67,
   "metadata": {},
   "outputs": [],
   "source": [
    "# keyword = \"TSLA\"\n",
    "# posts = api.search(q=keyword, count = 500)\n",
    "# data = pd.DataFrame(columns=['created_at', 'tweet'])\n",
    "\n",
    "# for tweet in posts:\n",
    "#     created = tweet.created_at\n",
    "#     data = data.append({'created_at': tweet.created})"
   ]
  },
  {
   "cell_type": "code",
   "execution_count": 68,
   "metadata": {},
   "outputs": [],
   "source": [
    "# for tweet in posts:\n",
    "#     created_at = str(tweet.created_at).split()[0]\n",
    "#     data = data.append({'created_at': created_at, 'tweet': str(tweet.text.encode(\"utf-8\"))}, ignore_index = True)"
   ]
  },
  {
   "cell_type": "code",
   "execution_count": 69,
   "metadata": {},
   "outputs": [],
   "source": [
    "# data\n",
    "# overall_dict = {}\n",
    "# for index, row in data.iterrows():\n",
    "#     # print(row['created_at'])\n",
    "#     if row['created_at'] in overall_dict:\n",
    "#         overall_dict[row['created_at']].append(row['tweet'])\n",
    "#     else:\n",
    "#         # print([row['tweet']])\n",
    "#         overall_dict[row['created_at']] = [row['tweet']]\n",
    "#         # print(overall_dict[row['created_at']])\n",
    "# import json\n",
    "# with open('realTimeTesla.json', 'a') as outfile:\n",
    "#     json.dump(overall_dict, outfile)\n",
    "\n"
   ]
  },
  {
   "cell_type": "code",
   "execution_count": 70,
   "metadata": {},
   "outputs": [],
   "source": [
    "def extract_data_to_json(company_ticker):\n",
    "    keyword = company_ticker\n",
    "    posts = api.search(q=keyword, count = 500)\n",
    "    data = pd.DataFrame(columns=['created_at', 'tweet'])\n",
    "    for tweet in posts:\n",
    "        created_at = str(tweet.created_at).split()[0]\n",
    "        data = data.append({'created_at': created_at, 'tweet': str(tweet.text.encode(\"utf-8\"))}, ignore_index = True)\n",
    "    overall_dict = {}\n",
    "    for index, row in data.iterrows():\n",
    "    # print(row['created_at'])\n",
    "        if row['created_at'] in overall_dict:\n",
    "            overall_dict[row['created_at']].append(row['tweet'])\n",
    "        else:\n",
    "            # print([row['tweet']])\n",
    "            overall_dict[row['created_at']] = [row['tweet']]\n",
    "            # print(overall_dict[row['created_at']])\n",
    "    company_file = 'realTime' + company_ticker + '.json'\n",
    "    with open(company_file, 'a') as outfile:\n",
    "        json.dump(overall_dict, outfile)\n",
    "    "
   ]
  },
  {
   "cell_type": "code",
   "execution_count": 71,
   "metadata": {},
   "outputs": [],
   "source": [
    "company_tickers = ['MSFT', 'TSLA', 'GOOGL', 'AMZN', 'AAPL']\n",
    "for company_ticker in company_tickers:\n",
    "    extract_data_to_json(company_ticker)"
   ]
  },
  {
   "cell_type": "code",
   "execution_count": null,
   "metadata": {},
   "outputs": [],
   "source": []
  }
 ],
 "metadata": {
  "kernelspec": {
   "display_name": "Python 3",
   "language": "python",
   "name": "python3"
  },
  "language_info": {
   "codemirror_mode": {
    "name": "ipython",
    "version": 3
   },
   "file_extension": ".py",
   "mimetype": "text/x-python",
   "name": "python",
   "nbconvert_exporter": "python",
   "pygments_lexer": "ipython3",
   "version": "3.6.9"
  }
 },
 "nbformat": 4,
 "nbformat_minor": 2
}
